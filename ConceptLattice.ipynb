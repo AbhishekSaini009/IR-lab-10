{
  "nbformat": 4,
  "nbformat_minor": 0,
  "metadata": {
    "colab": {
      "name": "ConceptLattice.ipynb",
      "provenance": [],
      "collapsed_sections": []
    },
    "kernelspec": {
      "name": "python3",
      "display_name": "Python 3"
    },
    "language_info": {
      "name": "python"
    }
  },
  "cells": [
    {
      "cell_type": "code",
      "metadata": {
        "colab": {
          "base_uri": "https://localhost:8080/"
        },
        "id": "0fwB27fJIlyq",
        "outputId": "e8427d01-8b8f-4c0a-8258-ae51361c6522"
      },
      "source": [
        "! pip install concepts"
      ],
      "execution_count": 1,
      "outputs": [
        {
          "output_type": "stream",
          "name": "stdout",
          "text": [
            "Collecting concepts\n",
            "  Downloading concepts-0.9.2-py2.py3-none-any.whl (31 kB)\n",
            "Requirement already satisfied: graphviz~=0.7 in /usr/local/lib/python3.7/dist-packages (from concepts) (0.10.1)\n",
            "Collecting bitsets~=0.7\n",
            "  Downloading bitsets-0.8.2-py3-none-any.whl (13 kB)\n",
            "Installing collected packages: bitsets, concepts\n",
            "Successfully installed bitsets-0.8.2 concepts-0.9.2\n"
          ]
        }
      ]
    },
    {
      "cell_type": "code",
      "metadata": {
        "id": "phQUTUfMI080"
      },
      "source": [
        "from concepts import Context, load_cxt, make_context, load_csv\n",
        "import numpy as np\n",
        "import pandas as pd\n"
      ],
      "execution_count": null,
      "outputs": []
    },
    {
      "cell_type": "code",
      "metadata": {
        "id": "XkDzx0sHI8Hp"
      },
      "source": [
        "c = Context.fromstring('''\n",
        "           |human|knight|king |mysterious|\n",
        "King Arthur|  X  |  X   |  X  |          |\n",
        "Sir Robin  |  X  |  X   |     |          |\n",
        "holy grail |     |      |     |     X    |\n",
        "''') \n",
        "c.lattice.graphviz() \n",
        "\n",
        "# c.tofile(filename='mycsv.csv', frmat='csv') # to get what kind of csv they are expecting"
      ],
      "execution_count": null,
      "outputs": []
    },
    {
      "cell_type": "code",
      "metadata": {
        "id": "qws5AFzhJjtm"
      },
      "source": [
        "context = load_cxt('./tealady.cxt')"
      ],
      "execution_count": null,
      "outputs": []
    },
    {
      "cell_type": "markdown",
      "metadata": {
        "id": "0O4vexVNJsvh"
      },
      "source": [
        "NEW Section"
      ]
    },
    {
      "cell_type": "code",
      "metadata": {
        "id": "OiuueCsWJxHI"
      },
      "source": [
        "context.lattice.graphviz()"
      ],
      "execution_count": null,
      "outputs": []
    },
    {
      "cell_type": "code",
      "metadata": {
        "id": "lfRKWdsOJ1Mf"
      },
      "source": [
        "atr_size = 20\n",
        "arr = np.random.randint(2, size=(atr_size, atr_size))\n",
        "df = pd.DataFrame(data=arr, columns=[f'doc{i}' for i in range(atr_size)])\n",
        "new_col = [f'term{i}' for i in range(atr_size)]\n",
        "df[df == 1] = 'X'\n",
        "df[df == 0] = ''\n",
        "df.insert(loc=0, column='', value=new_col)\n",
        "df.to_csv('./dummy.csv', index=False)"
      ],
      "execution_count": null,
      "outputs": []
    },
    {
      "cell_type": "code",
      "metadata": {
        "id": "QbZEA9NmJ6Y9"
      },
      "source": [
        "context = load_csv('./dummy.csv')\n",
        "context"
      ],
      "execution_count": null,
      "outputs": []
    },
    {
      "cell_type": "code",
      "metadata": {
        "id": "iEdbu5O5KEc1"
      },
      "source": [
        "df"
      ],
      "execution_count": null,
      "outputs": []
    },
    {
      "cell_type": "code",
      "metadata": {
        "id": "L82rV310KITQ"
      },
      "source": [
        "context.lattice.graphviz()"
      ],
      "execution_count": null,
      "outputs": []
    }
  ]
}